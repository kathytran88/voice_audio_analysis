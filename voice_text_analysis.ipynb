{
 "cells": [
  {
   "cell_type": "code",
   "execution_count": 1,
   "metadata": {},
   "outputs": [
    {
     "data": {
      "text/plain": [
       "0"
      ]
     },
     "execution_count": 1,
     "metadata": {},
     "output_type": "execute_result"
    }
   ],
   "source": [
    "### Convert text to voice for chatbot to ask the user ###\n",
    "from gtts import gTTS\n",
    "import os\n",
    "\n",
    "# Prompt the user for input\n",
    "text = input('Type in what you want to convert into voice: ')\n",
    "\n",
    "# Create a gTTS object\n",
    "tts = gTTS(text=text, lang='en')\n",
    "\n",
    "# Save the speech to a file\n",
    "tts.save(\"output.mp3\")\n",
    "\n",
    "# Play the speech (macOS command to play the file)\n",
    "os.system(\"afplay output.mp3\")"
   ]
  },
  {
   "cell_type": "code",
   "execution_count": null,
   "metadata": {},
   "outputs": [],
   "source": [
    "### Capture users' voice, turn it into text, and conduct sentiment analysis ###\n",
    "\n",
    "from vaderSentiment.vaderSentiment import SentimentIntensityAnalyzer\n",
    "import speech_recognition as sr\n",
    "\n",
    "# Create a recognizer instance\n",
    "recognizer = sr.Recognizer()\n",
    "\n",
    "# Use the microphone as source\n",
    "with sr.Microphone() as source:\n",
    "    print('Clearing background noise...')\n",
    "    recognizer.adjust_for_ambient_noise(source, duration=1)\n",
    "    print('Waiting for your message...')\n",
    "    recorded_audio = recognizer.listen(source)\n",
    "    print('Done recording...')\n",
    "\n",
    "try:\n",
    "    print('Printing the message...')\n",
    "    text = recognizer.recognize_google(recorded_audio, language='en-US')\n",
    "    print('Your message: {}'.format(text))\n",
    "except Exception as ex:\n",
    "    print(ex)\n",
    "\n",
    "# Sentiment analysis\n",
    "Sentence = [str(text)]\n",
    "analyser = SentimentIntensityAnalyzer()\n",
    "for i in Sentence:\n",
    "    v = analyser.polarity_scores(i)\n",
    "    \n",
    "    # Rename the keys in the dictionary\n",
    "    v_renamed = {\n",
    "        'negative sentiment': v['neg'],\n",
    "        'neutral sentiment': v['neu'],\n",
    "        'positive sentiment': v['pos'],\n",
    "        'compound': v['compound']\n",
    "    }\n",
    "    \n",
    "    print(v_renamed)"
   ]
  },
  {
   "cell_type": "markdown",
   "metadata": {},
   "source": [
    "neg: This score represents the proportion of negative sentiment in the text. It ranges from 0 (no negative sentiment) to 1 (completely negative sentiment).\n",
    "\n",
    "neu: This score represents the proportion of neutral sentiment in the text. It ranges from 0 (no neutral sentiment) to 1 (completely neutral sentiment).\n",
    "\n",
    "pos: This score represents the proportion of positive sentiment in the text. It ranges from 0 (no positive sentiment) to 1 (completely positive sentiment).\n",
    "\n",
    "compound: This is a normalized, weighted composite score that ranges from -1 (most extreme negative) to +1 (most extreme positive). The compound score is calculated by summing the valence scores of each word in the text, adjusted according to the word’s context, and then normalized to the range of -1 to 1. This score gives an overall sense of the sentiment conveyed by the text."
   ]
  }
 ],
 "metadata": {
  "kernelspec": {
   "display_name": "Python 3",
   "language": "python",
   "name": "python3"
  },
  "language_info": {
   "codemirror_mode": {
    "name": "ipython",
    "version": 3
   },
   "file_extension": ".py",
   "mimetype": "text/x-python",
   "name": "python",
   "nbconvert_exporter": "python",
   "pygments_lexer": "ipython3",
   "version": "3.12.1"
  }
 },
 "nbformat": 4,
 "nbformat_minor": 2
}
